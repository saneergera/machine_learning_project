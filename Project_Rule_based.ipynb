{
 "cells": [
  {
   "cell_type": "code",
   "execution_count": 1,
   "metadata": {},
   "outputs": [],
   "source": [
    "import numpy as np\n",
    "import scipy as sp\n",
    "import pandas as pd\n",
    "import matplotlib.pyplot as plt\n",
    "import seaborn as sns\n",
    "from sklearn.model_selection import train_test_split\n",
    "from sklearn.preprocessing import MinMaxScaler\n",
    "from sklearn.metrics import classification_report, confusion_matrix, accuracy_score, mean_squared_error, r2_score\n",
    "\n",
    "import wittgenstein as lw\n",
    "from sklearn.metrics import precision_score, recall_score"
   ]
  },
  {
   "cell_type": "code",
   "execution_count": 2,
   "metadata": {},
   "outputs": [],
   "source": [
    "fifa_data = pd.read_csv('./pre_processed_Outliers.csv')"
   ]
  },
  {
   "cell_type": "code",
   "execution_count": 3,
   "metadata": {},
   "outputs": [],
   "source": [
    "data_for_rules = fifa_data.head(400)"
   ]
  },
  {
   "cell_type": "code",
   "execution_count": 4,
   "metadata": {},
   "outputs": [],
   "source": [
    "Train, Test  = train_test_split(data_for_rules, test_size=.40,random_state=42)"
   ]
  },
  {
   "cell_type": "code",
   "execution_count": 5,
   "metadata": {},
   "outputs": [],
   "source": [
    "RuleBaseRipper = lw.RIPPER()"
   ]
  },
  {
   "cell_type": "code",
   "execution_count": 6,
   "metadata": {},
   "outputs": [],
   "source": [
    "def build_rule_based(pos):\n",
    "    RuleBaseRipper.fit(Train, class_feat='Position', pos_class=pos, random_state = 42)\n",
    "    print(RuleBaseRipper.ruleset_.out_pretty())\n",
    "    \n",
    "    X_test = Test.drop('Position', axis=1)\n",
    "    y_test = Test['Position']\n",
    "    \n",
    "    p_value= RuleBaseRipper.score(X_test, y_test, precision_score)\n",
    "    r_value = RuleBaseRipper.score(X_test, y_test, recall_score)\n",
    "    accuracy_value = (2*p_value*r_value)/(p_value+r_value)\n",
    "    print('Accuracy:', accuracy_value)"
   ]
  },
  {
   "cell_type": "markdown",
   "metadata": {},
   "source": [
    "## Rules for GoalKeeper"
   ]
  },
  {
   "cell_type": "code",
   "execution_count": 7,
   "metadata": {},
   "outputs": [
    {
     "name": "stdout",
     "output_type": "stream",
     "text": [
      "[[Frw=0.0-52.0]]\n",
      "None\n",
      "Accuracy: 0.9841269841269841\n"
     ]
    }
   ],
   "source": [
    "build_rule_based(0)"
   ]
  },
  {
   "cell_type": "markdown",
   "metadata": {},
   "source": [
    "## Rules for Defenders"
   ]
  },
  {
   "cell_type": "code",
   "execution_count": 8,
   "metadata": {},
   "outputs": [
    {
     "name": "stdout",
     "output_type": "stream",
     "text": [
      "[[Interceptions=75.0-80.0^Def=78.29-80.14] V\n",
      "[Def=80.14-83.57^Crossing=84.0-91.0] V\n",
      "[Frw=72.5-76.0^WorkRate=High/Medium] V\n",
      "[ShotPower=40.0-69.0^FKAccuracy=22.0-46.0] V\n",
      "[Crossing=80.0-84.0^SkillMoves=3.0] V\n",
      "[Volleys=49.0-58.0^Curve=63.0-69.0] V\n",
      "[SlidingTackle=75.0-80.0^Gk=11.0-11.6]]\n",
      "None\n",
      "Accuracy: 0.775\n"
     ]
    }
   ],
   "source": [
    "build_rule_based(1)"
   ]
  },
  {
   "cell_type": "markdown",
   "metadata": {},
   "source": [
    "## Rules for Midfielders"
   ]
  },
  {
   "cell_type": "code",
   "execution_count": 9,
   "metadata": {},
   "outputs": [
    {
     "name": "stdout",
     "output_type": "stream",
     "text": [
      "[[SlidingTackle=56.0-75.0^Frw=69.5-72.5] V\n",
      "[Finishing=46.0-55.0^WorkRate=Medium/High] V\n",
      "[Positioning=60.0-67.0^HeadingAccuracy=61.0-68.0] V\n",
      "[Penalties=48.0-57.0^SprintSpeed=64.0-70.0] V\n",
      "[SlidingTackle=75.0-80.0^Interceptions=80.0-82.0] V\n",
      "[Finishing=19.0-45.0^Weight=159-165]]\n",
      "None\n",
      "Accuracy: 0.4324324324324324\n"
     ]
    }
   ],
   "source": [
    "build_rule_based(2)"
   ]
  },
  {
   "cell_type": "markdown",
   "metadata": {},
   "source": [
    "## Rules for Strikers"
   ]
  },
  {
   "cell_type": "code",
   "execution_count": 10,
   "metadata": {},
   "outputs": [
    {
     "name": "stdout",
     "output_type": "stream",
     "text": [
      "[[SkillMoves=4.0^WorkRate=High/Medium] V\n",
      "[Volleys=77.0-82.0] V\n",
      "[Penalties=74.0-78.0] V\n",
      "[Aggression=55.0-65.0^BodyType=Normal] V\n",
      "[Frw=78.5-80.5] V\n",
      "[Volleys=72.0-77.0^SkillMoves=3.0] V\n",
      "[Penalties=78.0-86.0] V\n",
      "[BallControl=83.0-85.0]]\n",
      "None\n",
      "Accuracy: 0.8676470588235294\n"
     ]
    }
   ],
   "source": [
    "build_rule_based(3)"
   ]
  }
 ],
 "metadata": {
  "kernelspec": {
   "display_name": "Python 3",
   "language": "python",
   "name": "python3"
  },
  "language_info": {
   "codemirror_mode": {
    "name": "ipython",
    "version": 3
   },
   "file_extension": ".py",
   "mimetype": "text/x-python",
   "name": "python",
   "nbconvert_exporter": "python",
   "pygments_lexer": "ipython3",
   "version": "3.7.3"
  }
 },
 "nbformat": 4,
 "nbformat_minor": 2
}
